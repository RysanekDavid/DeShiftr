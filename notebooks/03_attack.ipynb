{
  "cells": [
    {
      "cell_type": "code",
      "execution_count": 39,
      "id": "6254fa29",
      "metadata": {},
      "outputs": [
        {
          "name": "stdout",
          "output_type": "stream",
          "text": [
            "Imports successful.\n"
          ]
        }
      ],
      "source": [
        "# Imports\n",
        "import numpy as np\n",
        "from pathlib import Path\n",
        "from subcipher.mh import crack\n",
        "from subcipher.io import export_result\n",
        "from subcipher.codec import encrypt, decrypt # For creating a sample cipher if needed\n",
        "from subcipher.text_utils import clean_text\n",
        "from subcipher.alphabet import ALPHABET\n",
        "import random\n",
        "\n",
        "print(\"Imports successful.\")"
      ]
    },
    {
      "cell_type": "code",
      "execution_count": 40,
      "id": "e07d2a58",
      "metadata": {},
      "outputs": [
        {
          "name": "stdout",
          "output_type": "stream",
          "text": [
            "Successfully loaded reference transition matrix from 'data\\model\\reference_tm.npy'. Shape: (27, 27)\n"
          ]
        }
      ],
      "source": [
        "# Load the reference transition matrix\n",
        "model_path = Path(\"data/model/reference_tm.npy\")\n",
        "if not model_path.exists():\n",
        "    print(f\"Model file not found: {model_path}\")\n",
        "    print(\"Please ensure you have built and saved the reference_tm.npy first (e.g., using 02_bigram_model.ipynb or build_bigram_model.py).\")\n",
        "    raise FileNotFoundError(f\"Model file not found: {model_path}. Please generate it first.\")\n",
        "else:\n",
        "    tm_ref = np.load(model_path)\n",
        "    print(f\"Successfully loaded reference transition matrix from '{model_path}'. Shape: {tm_ref.shape}\")\n"
      ]
    },
    {
      "cell_type": "code",
      "execution_count": 41,
      "id": "9af737f0",
      "metadata": {},
      "outputs": [
        {
          "name": "stdout",
          "output_type": "stream",
          "text": [
            "Ciphertext file data\\test\\text_1000_sample_1_ciphertext.txt not found. Using a demo ciphertext.\n",
            "Using demo ciphertext. True key for demo: SARUFMVOGTDQEBWKHIYJX_NZLPC\n",
            "Demo Plaintext: TOTO_JE_DEMONSTRACNI_TEXT_KTERY_BUDE_ZASIFROVAN_A_POTOM_PROLOMEN_POMOCI_METROPOLIS_HASTINGS_ALGORITMU_SNAD_TO_VYJDE_DOBRE\n",
            "Ciphertext to crack (cleaned, length 121): JWJWCTFCUFEWBYJISRBGCJFZJCDJFILCAXUFCPSYGMIW_SBCSCKWJWECKIWQWEFBCKWEWRGCEFJIWKWQGYCOSYJGBVYCSQVWIGJE...\n"
          ]
        }
      ],
      "source": [
        "# Prepare Ciphertext\n",
        "ciphertext_file_path = Path(\"data/test/text_1000_sample_1_ciphertext.txt\") # The one we used\n",
        "if ciphertext_file_path.exists():\n",
        "    with open(ciphertext_file_path, 'r', encoding='utf-8') as f:\n",
        "        raw_ciphertext = f.read()\n",
        "    print(f\"Loaded ciphertext from file: {ciphertext_file_path}. Length: {len(raw_ciphertext)}\")\n",
        "else:\n",
        "    print(f\"Ciphertext file {ciphertext_file_path} not found. Using a demo ciphertext.\")\n",
        "    true_plaintext_demo = \"TOTO_JE_DEMONSTRACNI_TEXT_KTERY_BUDE_ZASIFROVAN_A_POTOM_PROLOMEN_POMOCI_METROPOLIS_HASTINGS_ALGORITMU_SNAD_TO_VYJDE_DOBRE\"\n",
        "    key_list_demo = list(ALPHABET)\n",
        "    random.shuffle(key_list_demo)\n",
        "    true_key_demo = \"\".join(key_list_demo)\n",
        "    raw_ciphertext = encrypt(true_plaintext_demo, true_key_demo)\n",
        "    print(f\"Using demo ciphertext. True key for demo: {true_key_demo}\")\n",
        "    print(f\"Demo Plaintext: {true_plaintext_demo}\")\n",
        "\n",
        "# Clean the ciphertext (important if it might contain chars not in ALPHABET)\n",
        "ciphertext_to_crack = clean_text(raw_ciphertext)\n",
        "print(f\"Ciphertext to crack (cleaned, length {len(ciphertext_to_crack)}): {ciphertext_to_crack[:100]}...\")\n"
      ]
    },
    {
      "cell_type": "code",
      "execution_count": 42,
      "id": "29bd19b8",
      "metadata": {},
      "outputs": [
        {
          "name": "stdout",
          "output_type": "stream",
          "text": [
            "\n",
            "Starting cryptanalysis with 20000 iterations...\n",
            "\n",
            "Cryptanalysis finished.\n",
            "Best Log-Likelihood: -6.5891\n",
            "Found Key:           FKYVED_TWONUGIAMXPSJQHBLRZC\n",
            "\n",
            "Decrypted Plaintext (first 500 characters):\n",
            "TITI_HA_LAEIWCTNSYWM_TAZT_FTANX_OQLA_RSCMPNIGSW_S_BITIE_BNIUIEAW_BIEIYM_EATNIBIUMC_JSCTMWDC_SUDINMTEQ_CWSL_TI_GXHLA_LIONA\n",
            "\n",
            "--- Demo Ciphertext Check ---\n",
            "True Key for Demo:    SARUFMVOGTDQEBWKHIYJX_NZLPC\n",
            "Accuracy with true demo plaintext: 23.14%\n",
            "Did not recover the exact true demo key.\n"
          ]
        }
      ],
      "source": [
        "# Perform the cryptanalysis using crack()\n",
        "iters = 20000  \n",
        "temp = 1.0\n",
        "seed = None \n",
        "\n",
        "print(f\"\\nStarting cryptanalysis with {iters} iterations...\")\n",
        "found_key, decrypted_plaintext, best_ll = crack(\n",
        "    ciphertext_to_crack,\n",
        "    tm_ref,\n",
        "    iters=iters,\n",
        "    temp=temp,\n",
        "    seed=seed\n",
        "\n",
        ")\n",
        "\n",
        "print(f\"\\nCryptanalysis finished.\")\n",
        "print(f\"Best Log-Likelihood: {best_ll:.4f}\")\n",
        "print(f\"Found Key:           {found_key}\")\n",
        "print(f\"\\nDecrypted Plaintext (first 500 characters):\")\n",
        "print(decrypted_plaintext[:500])\n",
        "\n",
        "if 'true_plaintext_demo' in locals() and true_plaintext_demo:\n",
        "    matches = sum(p == t for p, t in zip(decrypted_plaintext, true_plaintext_demo))\n",
        "    accuracy = matches / len(true_plaintext_demo) if len(true_plaintext_demo) > 0 else 0\n",
        "    print(f\"\\n--- Demo Ciphertext Check ---\")\n",
        "    print(f\"True Key for Demo:    {true_key_demo}\")\n",
        "    print(f\"Accuracy with true demo plaintext: {accuracy:.2%}\")\n",
        "    if found_key == true_key_demo:\n",
        "        print(\"Successfully recovered the true demo key!\")\n",
        "    else:\n",
        "        print(\"Did not recover the exact true demo key.\")\n"
      ]
    },
    {
      "cell_type": "code",
      "execution_count": 43,
      "id": "91666530",
      "metadata": {},
      "outputs": [
        {
          "name": "stdout",
          "output_type": "stream",
          "text": [
            "\n",
            "Exporting results to directory: exports\\notebook_attack_demo\n",
            "Using length=121, sample_id=99\n",
            "\n",
            "Results exported successfully. Check the following files:\n",
            "Plaintext: exports\\notebook_attack_demo\\text_121_sample_99_plaintext.txt\n",
            "Key:       exports\\notebook_attack_demo\\text_121_sample_99_key.txt\n",
            "\n",
            "Content of exported plaintext file (first 200 chars):\n",
            "TITI_HA_LAEIWCTNSYWM_TAZT_FTANX_OQLA_RSCMPNIGSW_S_BITIE_BNIUIEAW_BIEIYM_EATNIBIUMC_JSCTMWDC_SUDINMTEQ_CWSL_TI_GXHLA_LIONA...\n"
          ]
        }
      ],
      "source": [
        "# Export the results using export_result()\n",
        "\n",
        "if ciphertext_file_path.exists() and \"text_1000_sample_1\" in str(ciphertext_file_path):\n",
        "    output_length = 1000\n",
        "    output_sample_id = 1\n",
        "else: # Fallback for demo\n",
        "    output_length = len(ciphertext_to_crack)\n",
        "    output_sample_id = 99 \n",
        "\n",
        "output_dest_dir = Path(\"exports/notebook_attack_demo\")\n",
        "\n",
        "print(f\"\\nExporting results to directory: {output_dest_dir}\")\n",
        "print(f\"Using length={output_length}, sample_id={output_sample_id}\")\n",
        "\n",
        "export_result(\n",
        "    plaintext=decrypted_plaintext,\n",
        "    key=found_key,\n",
        "    length=output_length,\n",
        "    sample_id=output_sample_id,\n",
        "    dest=output_dest_dir\n",
        ")\n",
        "\n",
        "print(\"\\nResults exported successfully. Check the following files:\")\n",
        "print(f\"Plaintext: {output_dest_dir / f'text_{output_length}_sample_{output_sample_id}_plaintext.txt'}\")\n",
        "print(f\"Key:       {output_dest_dir / f'text_{output_length}_sample_{output_sample_id}_key.txt'}\")\n",
        "\n",
        "with open(output_dest_dir / f'text_{output_length}_sample_{output_sample_id}_plaintext.txt', 'r', encoding='utf-8') as f:\n",
        "    print(f\"\\nContent of exported plaintext file (first 200 chars):\\n{f.read(200)}...\")\n"
      ]
    }
  ],
  "metadata": {
    "kernelspec": {
      "display_name": "Python 3",
      "language": "python",
      "name": "python3"
    },
    "language_info": {
      "codemirror_mode": {
        "name": "ipython",
        "version": 3
      },
      "file_extension": ".py",
      "mimetype": "text/x-python",
      "name": "python",
      "nbconvert_exporter": "python",
      "pygments_lexer": "ipython3",
      "version": "3.10.7"
    }
  },
  "nbformat": 4,
  "nbformat_minor": 5
}
