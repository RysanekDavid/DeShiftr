{
  "cells": [
    {
      "cell_type": "code",
      "execution_count": 1,
      "id": "6254fa29",
      "metadata": {},
      "outputs": [
        {
          "name": "stdout",
          "output_type": "stream",
          "text": [
            "Project root determined as: c:\\Git\\DeShiftr\n",
            "Subcipher modules imported successfully.\n",
            "Path to reference model set to: c:\\Git\\DeShiftr\\data\\model\\reference_tm.npy\n",
            "Path to ciphertext file set to: c:\\Git\\DeShiftr\\data\\test\\text_1000_sample_1_ciphertext.txt\n",
            "Output directory for attack results set to: c:\\Git\\DeShiftr\\exports\\notebook_attack_results\n"
          ]
        }
      ],
      "source": [
        "# Importy\n",
        "import numpy as np\n",
        "from pathlib import Path\n",
        "import random\n",
        "import os\n",
        "\n",
        "# Dynamické zjištění kořenového adresáře projektu\n",
        "try:\n",
        "    current_script_path = Path(__file__).resolve()\n",
        "    project_root = current_script_path.parent.parent \n",
        "except NameError:\n",
        "    cwd = Path(os.getcwd())\n",
        "    if cwd.name == \"notebooks\" and (cwd.parent / \"data\").is_dir() and (cwd.parent / \"scripts\").is_dir():\n",
        "        project_root = cwd.parent\n",
        "    elif (cwd / \"data\").is_dir() and (cwd / \"scripts\").is_dir():\n",
        "        project_root = cwd\n",
        "    else:\n",
        "        # Pokud struktura není rozpoznána\n",
        "        project_root = Path(\".\").resolve()\n",
        "        print(f\"Warning: Could not reliably determine project root. Using CWD: {project_root}\")\n",
        "\n",
        "print(f\"Project root determined as: {project_root}\")\n",
        "\n",
        "# Importy modulů ze složky subcipher\n",
        "from subcipher.mh import crack\n",
        "from subcipher.io import export_result\n",
        "from subcipher.codec import encrypt, decrypt\n",
        "from subcipher.text_utils import clean_text\n",
        "from subcipher.alphabet import ALPHABET\n",
        "\n",
        "print(\"Subcipher modules imported successfully.\")\n",
        "\n",
        "# --- Definice cest k souborům do rootu ---\n",
        "\n",
        "# Cesta k referenční matici vytvořené z krakatit.txt\n",
        "model_path = project_root / \"data\" / \"model\" / \"reference_tm.npy\"\n",
        "print(f\"Path to reference model set to: {model_path}\")\n",
        "\n",
        "# Cesta k šifrovanému textu\n",
        "ciphertext_file_path = project_root / \"data\" / \"test\" / \"text_1000_sample_1_ciphertext.txt\" \n",
        "print(f\"Path to ciphertext file set to: {ciphertext_file_path}\")\n",
        "\n",
        "# Adresář pro export výsledků (bude vytvořen, pokud neexistuje)\n",
        "output_dest_dir_attack = project_root / \"exports\" / \"notebook_attack_results\"\n",
        "print(f\"Output directory for attack results set to: {output_dest_dir_attack}\")"
      ]
    },
    {
      "cell_type": "code",
      "execution_count": 2,
      "id": "e07d2a58",
      "metadata": {},
      "outputs": [
        {
          "name": "stdout",
          "output_type": "stream",
          "text": [
            "Successfully loaded reference transition matrix from 'c:\\Git\\DeShiftr\\data\\model\\reference_tm.npy'. Shape: (27, 27)\n"
          ]
        }
      ],
      "source": [
        "# Načteme transition matrix\n",
        "if not model_path.exists():\n",
        "    print(f\"Model file not found: {model_path}\")\n",
        "    print(\"Please ensure you have built and saved the reference_tm.npy first (e.g., using 02_bigram_model.ipynb or build_bigram_model.py).\")\n",
        "    raise FileNotFoundError(f\"Model file not found: {model_path}. Please generate it first.\")\n",
        "else:\n",
        "    tm_ref = np.load(model_path)\n",
        "    print(f\"Successfully loaded reference transition matrix from '{model_path}'. Shape: {tm_ref.shape}\")"
      ]
    },
    {
      "cell_type": "code",
      "execution_count": 3,
      "id": "9af737f0",
      "metadata": {},
      "outputs": [
        {
          "name": "stdout",
          "output_type": "stream",
          "text": [
            "Loaded ciphertext from file: c:\\Git\\DeShiftr\\data\\test\\text_1000_sample_1_ciphertext.txt. Length: 1000\n",
            "Ciphertext to crack (cleaned, length 1000)\n"
          ]
        }
      ],
      "source": [
        "# Příprava Ciphertextu\n",
        "\n",
        "# Inicializace proměnných pro demo text, pokud by hlavní soubor nebyl nalezen\n",
        "true_plaintext_demo = None\n",
        "true_key_demo = None\n",
        "\n",
        "if ciphertext_file_path.exists() and ciphertext_file_path.is_file():\n",
        "    with open(ciphertext_file_path, 'r', encoding='utf-8') as f:\n",
        "        raw_ciphertext = f.read()\n",
        "    print(f\"Loaded ciphertext from file: {ciphertext_file_path}. Length: {len(raw_ciphertext)}\")\n",
        "else:\n",
        "    print(f\"Ciphertext file {ciphertext_file_path} not found or is not a file. Using a demo ciphertext.\")\n",
        "    true_plaintext_demo = \"TOTO_JE_DEMONSTRACNI_TEXT_KTERY_BUDE_ZASIFROVAN_A_POTOM_PROLOMEN_POMOCI_METROPOLIS_HASTINGS_ALGORITMU_SNAD_TO_VYJDE_DOBRE\"\n",
        "    key_list_demo = list(ALPHABET)\n",
        "    random.seed(11200)\n",
        "    random.shuffle(key_list_demo)\n",
        "    true_key_demo = \"\".join(key_list_demo)\n",
        "    raw_ciphertext = encrypt(true_plaintext_demo, true_key_demo)\n",
        "    print(f\"Using demo ciphertext. True key for demo: {true_key_demo}\")\n",
        "    print(f\"Demo Plaintext: {true_plaintext_demo}\")\n",
        "    print(f\"Demo Ciphertext (raw): {raw_ciphertext[:100]}...\")\n",
        "\n",
        "\n",
        "# Vyčíštění ciphertextu\n",
        "ciphertext_to_crack = clean_text(raw_ciphertext)\n",
        "print(f\"Ciphertext to crack (cleaned, length {len(ciphertext_to_crack)})\")"
      ]
    },
    {
      "cell_type": "code",
      "execution_count": 4,
      "id": "29bd19b8",
      "metadata": {},
      "outputs": [
        {
          "name": "stdout",
          "output_type": "stream",
          "text": [
            "\n",
            "Starting cryptanalysis with 20000 iterations, temp=1.0, seed=112000\n",
            "\n",
            "Cryptanalysis finished.\n",
            "Best Log-Likelihood: -10811.5508\n",
            "Found Key:           VLZODFTHUXWSERMCJKNYIBQGP_A\n",
            "\n",
            "Decrypted Plaintext (first 200 characters):\n",
            "_VOZEM_DO_NEHO_A_ZAS_MNE_BEZI_DO_CESTY__ZACHVELA_SE_TAK_KUDY_VPRAVO_NEBO_VLEVO_TEDY_JE_KONEC_PTAL_SE_TISE_POKYVLA_HLAVOU_TEDY_JE_KONEC_OTEVREL_DVIRKA_VYSKOCIL_Z_VOZU_A_POSTAVIL_SE_PRED_KOLA_JED_REKL_C\n"
          ]
        }
      ],
      "source": [
        "# Crack kryptoanalýza\n",
        "iters = 20000  # Počet iterací\n",
        "temp = 1.0\n",
        "seed = 112000  # Nastavení seedu, pro mě nejlepší výsledek s tímto seedem / případně dáme seed = None pro random\n",
        "\n",
        "print(f\"\\nStarting cryptanalysis with {iters} iterations, temp={temp}, seed={seed}\")\n",
        "found_key, decrypted_plaintext, best_ll = crack(\n",
        "    ciphertext_to_crack,\n",
        "    tm_ref,\n",
        "    iters=iters,\n",
        "    temp=temp,\n",
        "    seed=seed\n",
        ")\n",
        "\n",
        "print(f\"\\nCryptanalysis finished.\")\n",
        "print(f\"Best Log-Likelihood: {best_ll:.4f}\")\n",
        "print(f\"Found Key:           {found_key}\")\n",
        "print(f\"\\nDecrypted Plaintext (first 200 characters):\")\n",
        "print(decrypted_plaintext[:200])\n",
        "\n",
        "# Kontrola pro demo text, pokud byl použit\n",
        "if true_plaintext_demo: \n",
        "    matches = sum(p == t for p, t in zip(decrypted_plaintext, true_plaintext_demo))\n",
        "    accuracy = matches / len(true_plaintext_demo) if len(true_plaintext_demo) > 0 else 0\n",
        "    print(f\"\\n--- Demo Ciphertext Check ---\")\n",
        "    print(f\"True Key for Demo:    {true_key_demo}\")\n",
        "    print(f\"Accuracy with true demo plaintext: {accuracy:.2%}\")\n",
        "    if found_key == true_key_demo:\n",
        "        print(\"Successfully recovered the true demo key!\")\n",
        "    else:\n",
        "        print(\"Did not recover the exact true demo key.\")"
      ]
    },
    {
      "cell_type": "code",
      "execution_count": 5,
      "id": "91666530",
      "metadata": {},
      "outputs": [
        {
          "name": "stdout",
          "output_type": "stream",
          "text": [
            "\n",
            "Exporting results to directory: c:\\Git\\DeShiftr\\exports\\notebook_attack_results\n",
            "\n",
            "Results exported successfully. Check the following files:\n",
            "Plaintext: c:\\Git\\DeShiftr\\exports\\notebook_attack_results\\text_1000_sample_1_plaintext.txt\n",
            "Key:       c:\\Git\\DeShiftr\\exports\\notebook_attack_results\\text_1000_sample_1_key.txt\n"
          ]
        }
      ],
      "source": [
        "# Export výsledků\n",
        "\n",
        "if 'project_root' not in locals() or not project_root:\n",
        "    print(\"Chyba: project_root není definován. Spusťte prosím nejprve Buňku 1.\")\n",
        "\n",
        "\n",
        "if 'output_dest_dir_for_attack' not in locals() and 'project_root' in locals():\n",
        "     output_dest_dir_for_attack = project_root / \"exports\" / \"notebook_attack_results\"\n",
        "\n",
        "# Určení délky a ID pro název souboru\n",
        "if ciphertext_file_path.exists() and ciphertext_file_path.is_file() and \"text_1000_sample_1\" in str(ciphertext_file_path.name):\n",
        "    output_length = 1000\n",
        "    output_sample_id = 1 \n",
        "else: \n",
        "    output_length = len(ciphertext_to_crack) \n",
        "    output_sample_id = 99 \n",
        "\n",
        "print(f\"\\nExporting results to directory: {output_dest_dir_for_attack}\")\n",
        "\n",
        "# Vytvoření adresáře, pokud neexistuje\n",
        "output_dest_dir_for_attack.mkdir(parents=True, exist_ok=True)\n",
        "\n",
        "export_result(\n",
        "    plaintext=decrypted_plaintext,\n",
        "    key=found_key,\n",
        "    length=output_length, \n",
        "    sample_id=output_sample_id,\n",
        "    dest=output_dest_dir_for_attack\n",
        ")\n",
        "\n",
        "print(\"\\nResults exported successfully. Check the following files:\")\n",
        "exported_plaintext_file = output_dest_dir_for_attack / f'text_{output_length}_sample_{output_sample_id}_plaintext.txt'\n",
        "exported_key_file = output_dest_dir_for_attack / f'text_{output_length}_sample_{output_sample_id}_key.txt'\n",
        "\n",
        "print(f\"Plaintext: {exported_plaintext_file}\")\n",
        "print(f\"Key:       {exported_key_file}\")"
      ]
    }
  ],
  "metadata": {
    "kernelspec": {
      "display_name": "Python 3",
      "language": "python",
      "name": "python3"
    },
    "language_info": {
      "codemirror_mode": {
        "name": "ipython",
        "version": 3
      },
      "file_extension": ".py",
      "mimetype": "text/x-python",
      "name": "python",
      "nbconvert_exporter": "python",
      "pygments_lexer": "ipython3",
      "version": "3.10.7"
    }
  },
  "nbformat": 4,
  "nbformat_minor": 5
}
