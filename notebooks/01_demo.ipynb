{
  "cells": [
    {
      "cell_type": "code",
      "execution_count": null,
      "id": "e699feb0",
      "metadata": {},
      "outputs": [
        {
          "name": "stdout",
          "output_type": "stream",
          "text": [
            "Alphabet used: ABCDEFGHIJKLMNOPQRSTUVWXYZ_\n"
          ]
        }
      ],
      "source": [
        "# Imports\n",
        "from subcipher.codec import encrypt, decrypt\n",
        "from subcipher.alphabet import ALPHABET\n",
        "import random\n",
        "\n",
        "print(\"Alphabet used:\", ALPHABET)"
      ]
    },
    {
      "cell_type": "code",
      "execution_count": null,
      "id": "b2759d96",
      "metadata": {},
      "outputs": [
        {
          "name": "stdout",
          "output_type": "stream",
          "text": [
            "Sample Plaintext: AHOJ_SVETE_TOTO_JE_VELMI_TAJNA_ZPRAVA_PRO_DEMONSTRACI_SUBSTITUCNI_SIFRY_\n",
            "Sample Key:       IQHATCLJRYUNGOVWXKPS_FZDBEM\n"
          ]
        }
      ],
      "source": [
        "# Define a sample key and plaintext\n",
        "# Generate a random key for demonstration\n",
        "key_list = list(ALPHABET)\n",
        "random.shuffle(key_list)\n",
        "sample_key = \"\".join(key_list)\n",
        "\n",
        "sample_plaintext = \"AHOJ_SVETE_TOTO_JE_VELMI_TAJNA_ZPRAVA_PRO_DEMONSTRACI_SUBSTITUCNI_SIFRY_\"\n",
        "# Add more complex text if desired\n",
        "\n",
        "print(f\"Sample Plaintext: {sample_plaintext}\")\n",
        "print(f\"Sample Key:       {sample_key}\")\n"
      ]
    },
    {
      "cell_type": "code",
      "execution_count": null,
      "id": "975b5c79",
      "metadata": {},
      "outputs": [
        {
          "name": "stdout",
          "output_type": "stream",
          "text": [
            "Encrypted Text:   IJVYMPFTSTMSVSVMYTMFTNGRMSIYOIMEWKIFIMWKVMATGVOPSKIHRMP_QPSRS_HORMPRCKBM\n"
          ]
        }
      ],
      "source": [
        "# Encrypt the plaintext\n",
        "encrypted_text = encrypt(sample_plaintext, sample_key)\n",
        "print(f\"Encrypted Text:   {encrypted_text}\")"
      ]
    },
    {
      "cell_type": "code",
      "execution_count": null,
      "id": "91f8ea2f",
      "metadata": {},
      "outputs": [
        {
          "name": "stdout",
          "output_type": "stream",
          "text": [
            "Decrypted Text:   AHOJ_SVETE_TOTO_JE_VELMI_TAJNA_ZPRAVA_PRO_DEMONSTRACI_SUBSTITUCNI_SIFRY_\n"
          ]
        }
      ],
      "source": [
        "# Decrypt the ciphertext\n",
        "decrypted_text = decrypt(encrypted_text, sample_key)\n",
        "print(f\"Decrypted Text:   {decrypted_text}\")"
      ]
    },
    {
      "cell_type": "code",
      "execution_count": null,
      "id": "8889a090",
      "metadata": {},
      "outputs": [
        {
          "name": "stdout",
          "output_type": "stream",
          "text": [
            "\n",
            "Verification successful: Decrypted text matches original plaintext.\n",
            "\n",
            "--- Example from Project Description ---\n",
            "Plaintext: BYL_POZDNI_VECER_PRVNI_MAJ_VECERNI_MAJ_BYL_LASKY_CAS\n",
            "Key:       DEFGHIJKLMNOPQRSTUVWXYZ_ABC\n",
            "Encrypted: EAOCSRBGQLCYHFHUCSUYQLCPDMCYHFHUQLCPDMCEAOCODVNACFDV\n",
            "Decrypted: BYL_POZDNI_VECER_PRVNI_MAJ_VECERNI_MAJ_BYL_LASKY_CAS\n",
            "Project description example verified successfully.\n"
          ]
        }
      ],
      "source": [
        "# Verify correctness\n",
        "if decrypted_text == sample_plaintext:\n",
        "    print(\"\\nVerification successful: Decrypted text matches original plaintext.\")\n",
        "else:\n",
        "    print(\"\\nVerification FAILED: Decrypted text does NOT match original plaintext.\")\n",
        "    print(f\"Original:  {sample_plaintext}\")\n",
        "    print(f\"Decrypted: {decrypted_text}\")\n",
        "\n",
        "# Demonstrate with a known example\n",
        "plaintext_example = \"BYL_POZDNI_VECER_PRVNI_MAJ_VECERNI_MAJ_BYL_LASKY_CAS\"\n",
        "key_example = \"DEFGHIJKLMNOPQRSTUVWXYZ_ABC\"\n",
        "print(f\"\\n--- Example from Project Description ---\")\n",
        "print(f\"Plaintext: {plaintext_example}\")\n",
        "print(f\"Key:       {key_example}\")\n",
        "encrypted_example = encrypt(plaintext_example, key_example)\n",
        "print(f\"Encrypted: {encrypted_example}\")\n",
        "decrypted_example_check = decrypt(encrypted_example, key_example)\n",
        "print(f\"Decrypted: {decrypted_example_check}\")\n",
        "assert decrypted_example_check == plaintext_example\n",
        "print(\"Project description example verified successfully.\")"
      ]
    }
  ],
  "metadata": {
    "kernelspec": {
      "display_name": "Python 3",
      "language": "python",
      "name": "python3"
    },
    "language_info": {
      "codemirror_mode": {
        "name": "ipython",
        "version": 3
      },
      "file_extension": ".py",
      "mimetype": "text/x-python",
      "name": "python",
      "nbconvert_exporter": "python",
      "pygments_lexer": "ipython3",
      "version": "3.10.7"
    }
  },
  "nbformat": 4,
  "nbformat_minor": 5
}
